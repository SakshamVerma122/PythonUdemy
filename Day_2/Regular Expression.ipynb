{
 "cells": [
  {
   "cell_type": "markdown",
   "id": "971add30",
   "metadata": {},
   "source": [
    "## Regular Expression -- Corey"
   ]
  },
  {
   "cell_type": "code",
   "execution_count": null,
   "id": "d8bec4b0",
   "metadata": {},
   "outputs": [],
   "source": [
    "import re\n",
    "\n",
    "text_to_search = '''\n",
    "abcdefghijklmnopqurtuvwxyz\n",
    "ABCDEFGHIJKLMNOPQRSTUVWXYZ\n",
    "1234567890\n",
    "Ha HaHa\n",
    "MetaCharacters (Need to be escaped):\n",
    ". ^ $ * + ? { } [ ] \\ | ( )\n",
    "coreyms.com\n",
    "321-555-4321\n",
    "123.555.1234\n",
    "123*555*1234\n",
    "800-555-1234\n",
    "900-555-1234\n",
    "Mr. Schafer\n",
    "Mr Smith\n",
    "Ms Davis\n",
    "Mrs. Robinson\n",
    "Mr. T\n",
    "'''\n",
    "\n",
    "sentence = 'Start a sentence and then bring it to an end'\n",
    "\n",
    "pattern = re.compile(r'start', re.I)\n",
    "\n",
    "matches = pattern.search(sentence)\n",
    "\n",
    "print(matches)"
   ]
  }
 ],
 "metadata": {
  "kernelspec": {
   "display_name": "PracticeENV",
   "language": "python",
   "name": "practiceenv"
  },
  "language_info": {
   "codemirror_mode": {
    "name": "ipython",
    "version": 3
   },
   "file_extension": ".py",
   "mimetype": "text/x-python",
   "name": "python",
   "nbconvert_exporter": "python",
   "pygments_lexer": "ipython3",
   "version": "3.6.13"
  }
 },
 "nbformat": 4,
 "nbformat_minor": 5
}
